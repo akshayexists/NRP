{
 "cells": [
  {
   "cell_type": "markdown",
   "metadata": {},
   "source": [
    "# Experiment 1"
   ]
  },
  {
   "cell_type": "code",
   "execution_count": null,
   "metadata": {},
   "outputs": [],
   "source": [
    "import matplotlib.pyplot as plt\n",
    "import pandas\n",
    "import bokeh.layouts as layouts\n",
    "from bokeh.plotting import figure, show, output_file, save\n",
    "from bokeh.embed import components\n",
    "from bokeh.resources import CDN\n",
    "df = pandas.read_csv('TJ220607.CSV', names=['Time(s)', 'V1', 'V2', '�C'])\n",
    "\n",
    "source1=df\n",
    "source2=df\n",
    "source3=df\n",
    "source4=df\n",
    "source5=df\n",
    "\n",
    "mfcTooltips = [\n",
    "    (\"index\", \"$index\"),\n",
    "    (\"MFC\", \"$name\"),\n",
    "    (\"Time (s)\", \"$x\"),\n",
    "    (\"E.M.F (V)\", \"$y\")\n",
    "]\n",
    "\n",
    "tempTooltips = [\n",
    "    (\"index\", \"$index\"),\n",
    "    (\"Time (s)\", \"$x\"),\n",
    "    (\"E.M.F (V)\", \"$y\")\n",
    "]\n",
    "\n",
    "p = figure(title = 'Experiment 1', x_axis_label = \"time(s)\", y_axis_label=\"E.M.F.(V)\", x_range=(0, 12000), y_range=(0.2, 1), sizing_mode=\"scale_both\", tooltips = mfcTooltips)\n",
    "\n",
    "p.line('Time(s)', 'V1', source = source1, color = \"green\", legend_label = \"MFC 1\", name='MFC 1')\n",
    "p.line('Time(s)', 'V2', source = source2, color = \"red\", legend_label = \"MFC 2\", name = \"MFC 2\")\n",
    "\n",
    "p1 = figure(title = 'Temperature', x_axis_label = \"time(s)\", y_axis_label=\"Temperature (�C)\", x_range=(0, 12000), y_range=(26, 30), sizing_mode=\"scale_both\", tooltips = tempTooltips)\n",
    "p1.line('Time(s)', '�C', color = 'black', source = source4)\n",
    "output_file(filename=\"TExperiment1.html\", title=\"TJ220607.CSV\")\n",
    "show(layouts.row(children = [p, p1], sizing_mode = \"scale_both\"))\n",
    "save(layouts.row(children = [p, p1], sizing_mode = \"scale_both\"))\n",
    "\"\"\"\n",
    "script1, div1, = components(layouts.row(children = [p, p1], sizing_mode = \"scale_height\"))\n",
    "cdn_js = CDN.js_files\n",
    "cdn_css = CDN.css_files\n",
    "\"\"\""
   ]
  },
  {
   "cell_type": "markdown",
   "metadata": {},
   "source": [
    "## Standalone version of voltage curve"
   ]
  },
  {
   "cell_type": "code",
   "execution_count": 9,
   "metadata": {},
   "outputs": [
    {
     "data": {
      "text/plain": [
       "'c:\\\\Users\\\\Akshay\\\\Desktop\\\\Class Work\\\\IP5&6\\\\NRP\\\\Data\\\\Experiment1.html'"
      ]
     },
     "execution_count": 9,
     "metadata": {},
     "output_type": "execute_result"
    }
   ],
   "source": [
    "import matplotlib.pyplot as plt\n",
    "import pandas\n",
    "import bokeh.layouts as layouts\n",
    "from bokeh.plotting import figure, show, output_file, save\n",
    "from bokeh.embed import components\n",
    "from bokeh.resources import CDN\n",
    "df = pandas.read_csv('TJ220607.CSV', names=['Time(s)', 'V1', 'V2', '�C'])\n",
    "\n",
    "source1=df\n",
    "source2=df\n",
    "source3=df\n",
    "source4=df\n",
    "source5=df\n",
    "\n",
    "mfcTooltips = [\n",
    "    (\"index\", \"$index\"),\n",
    "    (\"MFC\", \"$name\"),\n",
    "    (\"Time (s)\", \"$x\"),\n",
    "    (\"E.M.F (V)\", \"$y\")\n",
    "]\n",
    "\n",
    "p = figure(title = 'Experiment 1', x_axis_label = \"time(s)\", y_axis_label=\"E.M.F.(V)\", x_range=(0, 12000), y_range=(0.2, 1), sizing_mode=\"scale_height\", tooltips = mfcTooltips)\n",
    "p.line('Time(s)', 'V1', source = source1, color = \"green\", legend_label = \"MFC 1\", name='MFC 1')\n",
    "p.line('Time(s)', 'V2', source = source2, color = \"red\", legend_label = \"MFC 2\", name = \"MFC 2\")\n",
    "\n",
    "output_file(filename=\"Experiment1.html\", title=\"TJ220607.CSV\")\n",
    "show(p)\n",
    "save(p)"
   ]
  },
  {
   "cell_type": "markdown",
   "metadata": {},
   "source": [
    "# Experiment 2"
   ]
  },
  {
   "cell_type": "code",
   "execution_count": 44,
   "metadata": {},
   "outputs": [],
   "source": [
    "import matplotlib.pyplot as plt\n",
    "import pandas\n",
    "import bokeh.layouts as layouts\n",
    "from bokeh.plotting import figure, show, output_file, save\n",
    "from bokeh.embed import components\n",
    "from bokeh.resources import CDN\n",
    "from bokeh.models import CheckboxGroup, CustomJS\n"
   ]
  },
  {
   "cell_type": "code",
   "execution_count": 45,
   "metadata": {},
   "outputs": [],
   "source": [
    "df = pandas.read_csv('CLX10712.CSV', names=['Time(s)', 'V1', 'V2', 'V3', '�C', 'Vavg'])"
   ]
  },
  {
   "cell_type": "code",
   "execution_count": 46,
   "metadata": {},
   "outputs": [],
   "source": [
    "source1=df\n",
    "source2=df\n",
    "source3=df\n",
    "source4=df\n",
    "source5=df\n",
    "\n",
    "Tooltips = [\n",
    "    (\"index\", \"$index\"),\n",
    "    (\"MFC\", \"$name\"),\n",
    "    (\"Time (s)\", \"$x\"),\n",
    "    (\"E.M.F (V)\", \"$y\")\n",
    "]"
   ]
  },
  {
   "cell_type": "code",
   "execution_count": 47,
   "metadata": {},
   "outputs": [],
   "source": [
    "p = figure(title = 'Cellophane', x_axis_label = \"time(s)\", y_axis_label=\"E.M.F.(V)\", x_range=(0, 87000), y_range=(0, 1), sizing_mode=\"scale_both\", tooltips = Tooltips)\n",
    "\n",
    "p.line('Time(s)', 'V1', source = source1, color = \"green\", legend_label = \"MFC1\", name='MFC1')\n",
    "p.line('Time(s)', 'V2', source = source2, color = \"red\", legend_label = \"MFC2\", name = \"MFC2\")\n",
    "p.line('Time(s)', 'V3', source = source3, color = \"blue\", legend_label = \"MFC3\", name = \"MFC3\")\n",
    "p.line('Time(s)', 'Vavg', source = source4, color = \"black\", legend_label = \"Average\", name = \"Average\")\n",
    "p.legend.location = \"top_right\"\n",
    "p.legend.click_policy = \"hide\""
   ]
  },
  {
   "cell_type": "code",
   "execution_count": 48,
   "metadata": {},
   "outputs": [
    {
     "data": {
      "text/html": [
       "<div style=\"display: table;\"><div style=\"display: table-row;\"><div style=\"display: table-cell;\"><b title=\"bokeh.models.renderers.GlyphRenderer\">GlyphRenderer</b>(</div><div style=\"display: table-cell;\">id&nbsp;=&nbsp;'3683', <span id=\"3686\" style=\"cursor: pointer;\">&hellip;)</span></div></div><div class=\"3685\" style=\"display: none;\"><div style=\"display: table-cell;\"></div><div style=\"display: table-cell;\">data_source&nbsp;=&nbsp;ColumnDataSource(id='3679', ...),</div></div><div class=\"3685\" style=\"display: none;\"><div style=\"display: table-cell;\"></div><div style=\"display: table-cell;\">glyph&nbsp;=&nbsp;Line(id='3681', ...),</div></div><div class=\"3685\" style=\"display: none;\"><div style=\"display: table-cell;\"></div><div style=\"display: table-cell;\">hover_glyph&nbsp;=&nbsp;None,</div></div><div class=\"3685\" style=\"display: none;\"><div style=\"display: table-cell;\"></div><div style=\"display: table-cell;\">js_event_callbacks&nbsp;=&nbsp;{},</div></div><div class=\"3685\" style=\"display: none;\"><div style=\"display: table-cell;\"></div><div style=\"display: table-cell;\">js_property_callbacks&nbsp;=&nbsp;{},</div></div><div class=\"3685\" style=\"display: none;\"><div style=\"display: table-cell;\"></div><div style=\"display: table-cell;\">level&nbsp;=&nbsp;'glyph',</div></div><div class=\"3685\" style=\"display: none;\"><div style=\"display: table-cell;\"></div><div style=\"display: table-cell;\">muted&nbsp;=&nbsp;False,</div></div><div class=\"3685\" style=\"display: none;\"><div style=\"display: table-cell;\"></div><div style=\"display: table-cell;\">muted_glyph&nbsp;=&nbsp;None,</div></div><div class=\"3685\" style=\"display: none;\"><div style=\"display: table-cell;\"></div><div style=\"display: table-cell;\">name&nbsp;=&nbsp;None,</div></div><div class=\"3685\" style=\"display: none;\"><div style=\"display: table-cell;\"></div><div style=\"display: table-cell;\">nonselection_glyph&nbsp;=&nbsp;Line(id='3682', ...),</div></div><div class=\"3685\" style=\"display: none;\"><div style=\"display: table-cell;\"></div><div style=\"display: table-cell;\">selection_glyph&nbsp;=&nbsp;'auto',</div></div><div class=\"3685\" style=\"display: none;\"><div style=\"display: table-cell;\"></div><div style=\"display: table-cell;\">subscribed_events&nbsp;=&nbsp;[],</div></div><div class=\"3685\" style=\"display: none;\"><div style=\"display: table-cell;\"></div><div style=\"display: table-cell;\">syncable&nbsp;=&nbsp;True,</div></div><div class=\"3685\" style=\"display: none;\"><div style=\"display: table-cell;\"></div><div style=\"display: table-cell;\">tags&nbsp;=&nbsp;[],</div></div><div class=\"3685\" style=\"display: none;\"><div style=\"display: table-cell;\"></div><div style=\"display: table-cell;\">view&nbsp;=&nbsp;CDSView(id='3684', ...),</div></div><div class=\"3685\" style=\"display: none;\"><div style=\"display: table-cell;\"></div><div style=\"display: table-cell;\">visible&nbsp;=&nbsp;True,</div></div><div class=\"3685\" style=\"display: none;\"><div style=\"display: table-cell;\"></div><div style=\"display: table-cell;\">x_range_name&nbsp;=&nbsp;'default',</div></div><div class=\"3685\" style=\"display: none;\"><div style=\"display: table-cell;\"></div><div style=\"display: table-cell;\">y_range_name&nbsp;=&nbsp;'default')</div></div></div>\n",
       "<script>\n",
       "(function() {\n",
       "  var expanded = false;\n",
       "  var ellipsis = document.getElementById(\"3686\");\n",
       "  ellipsis.addEventListener(\"click\", function() {\n",
       "    var rows = document.getElementsByClassName(\"3685\");\n",
       "    for (var i = 0; i < rows.length; i++) {\n",
       "      var el = rows[i];\n",
       "      el.style.display = expanded ? \"none\" : \"table-row\";\n",
       "    }\n",
       "    ellipsis.innerHTML = expanded ? \"&hellip;)\" : \"&lsaquo;&lsaquo;&lsaquo;\";\n",
       "    expanded = !expanded;\n",
       "  });\n",
       "})();\n",
       "</script>\n"
      ],
      "text/plain": [
       "GlyphRenderer(id='3683', ...)"
      ]
     },
     "execution_count": 48,
     "metadata": {},
     "output_type": "execute_result"
    }
   ],
   "source": [
    "p1 = figure(title = 'Temperature', x_axis_label = \"time(s)\", y_axis_label=\"Temperature (�C)\", x_range=(0, 86400), y_range=(18, 25), sizing_mode=\"scale_both\", tooltips = Tooltips)\n",
    "p1.line('Time(s)', '�C', color = 'black', source = source4)"
   ]
  },
  {
   "cell_type": "code",
   "execution_count": 49,
   "metadata": {},
   "outputs": [
    {
     "data": {
      "text/plain": [
       "'\\nscript1, div1, = components(layouts.row(children = [p, p1], sizing_mode = \"scale_height\"))\\ncdn_js = CDN.js_files\\ncdn_css = CDN.css_files\\n'"
      ]
     },
     "execution_count": 49,
     "metadata": {},
     "output_type": "execute_result"
    }
   ],
   "source": [
    "output_file(filename=\"Cellophane_Run2.html\", title=\"CLX10712.CSV, 7/12/2022\")\n",
    "save(layouts.row(children = [p, p1], sizing_mode = \"scale_both\"))\n",
    "\"\"\"\n",
    "script1, div1, = components(layouts.row(children = [p, p1], sizing_mode = \"scale_height\"))\n",
    "cdn_js = CDN.js_files\n",
    "cdn_css = CDN.css_files\n",
    "\"\"\""
   ]
  },
  {
   "cell_type": "markdown",
   "metadata": {},
   "source": [
    "## Standalone version of voltage curve"
   ]
  },
  {
   "cell_type": "code",
   "execution_count": 10,
   "metadata": {},
   "outputs": [
    {
     "data": {
      "text/plain": [
       "'c:\\\\Users\\\\Akshay\\\\Desktop\\\\Class Work\\\\IP5&6\\\\NRP\\\\Data\\\\Experiment2.html'"
      ]
     },
     "execution_count": 10,
     "metadata": {},
     "output_type": "execute_result"
    }
   ],
   "source": [
    "import matplotlib.pyplot as plt\n",
    "import pandas\n",
    "import bokeh.layouts as layouts\n",
    "from bokeh.plotting import figure, show, output_file, save\n",
    "from bokeh.embed import components\n",
    "from bokeh.resources import CDN\n",
    "df = pandas.read_csv('TJ220608.CSV', names=['Time(s)', 'V1', 'V2', 'V3', '�C'])\n",
    "\n",
    "source1=df\n",
    "source2=df\n",
    "source3=df\n",
    "source4=df\n",
    "source5=df\n",
    "\n",
    "mfcTooltips = [\n",
    "    (\"index\", \"$index\"),\n",
    "    (\"MFC:\", \"$name\"),\n",
    "    (\"Time (s)\", \"$x\"),\n",
    "    (\"E.M.F (V)\", \"$y\")\n",
    "]\n",
    "\n",
    "p = figure(title = 'Experiment 2', x_axis_label = \"time(s)\", y_axis_label=\"E.M.F.(V)\", x_range=(0, 87000), y_range=(0.2, 1), sizing_mode=\"scale_height\", tooltips = mfcTooltips)\n",
    "\n",
    "p.line('Time(s)', 'V1', source = source1, color = \"green\", legend_label = \"Control\", name='Control')\n",
    "p.line('Time(s)', 'V2', source = source2, color = \"red\", legend_label = \"0.01 M Potassium Permanganate\", name = \"0.01 M Potassium Permanganate\")\n",
    "p.line('Time(s)', 'V3', source = source3, color = \"blue\", legend_label = \"0.04 M Potassium Permanganate\", name = \"0.04 M Potassium Permanganate\")\n",
    "\n",
    "output_file(filename=\"Experiment2.html\", title=\"TJ220608.CSV\")\n",
    "show(p)\n",
    "save(p)"
   ]
  },
  {
   "cell_type": "code",
   "execution_count": 18,
   "metadata": {},
   "outputs": [
    {
     "name": "stderr",
     "output_type": "stream",
     "text": [
      "WARNING:bokeh.core.validation.check:W-1000 (MISSING_RENDERERS): Plot has no renderers: Figure(id='5823', ...)\n"
     ]
    },
    {
     "ename": "RuntimeError",
     "evalue": "Models must be owned by only a single document, LinearScale(id='5832', ...) is already in a doc",
     "output_type": "error",
     "traceback": [
      "\u001b[1;31m---------------------------------------------------------------------------\u001b[0m",
      "\u001b[1;31mRuntimeError\u001b[0m                              Traceback (most recent call last)",
      "\u001b[1;32m<ipython-input-18-644c11934bf3>\u001b[0m in \u001b[0;36m<module>\u001b[1;34m\u001b[0m\n\u001b[0;32m     36\u001b[0m \u001b[0moutput_file\u001b[0m\u001b[1;33m(\u001b[0m\u001b[0mfilename\u001b[0m\u001b[1;33m=\u001b[0m\u001b[1;34m\"TExperiment1.html\"\u001b[0m\u001b[1;33m,\u001b[0m \u001b[0mtitle\u001b[0m\u001b[1;33m=\u001b[0m\u001b[1;34m\"TJ221109.CSV\"\u001b[0m\u001b[1;33m)\u001b[0m\u001b[1;33m\u001b[0m\u001b[1;33m\u001b[0m\u001b[0m\n\u001b[0;32m     37\u001b[0m \u001b[0mshow\u001b[0m\u001b[1;33m(\u001b[0m\u001b[0mlayouts\u001b[0m\u001b[1;33m.\u001b[0m\u001b[0mrow\u001b[0m\u001b[1;33m(\u001b[0m\u001b[0mchildren\u001b[0m \u001b[1;33m=\u001b[0m \u001b[1;33m[\u001b[0m\u001b[0mp\u001b[0m\u001b[1;33m,\u001b[0m \u001b[0mp1\u001b[0m\u001b[1;33m]\u001b[0m\u001b[1;33m,\u001b[0m \u001b[0msizing_mode\u001b[0m \u001b[1;33m=\u001b[0m \u001b[1;34m\"scale_both\"\u001b[0m\u001b[1;33m)\u001b[0m\u001b[1;33m)\u001b[0m\u001b[1;33m\u001b[0m\u001b[1;33m\u001b[0m\u001b[0m\n\u001b[1;32m---> 38\u001b[1;33m \u001b[0msave\u001b[0m\u001b[1;33m(\u001b[0m\u001b[0mlayouts\u001b[0m\u001b[1;33m.\u001b[0m\u001b[0mrow\u001b[0m\u001b[1;33m(\u001b[0m\u001b[0mchildren\u001b[0m \u001b[1;33m=\u001b[0m \u001b[1;33m[\u001b[0m\u001b[0mp\u001b[0m\u001b[1;33m,\u001b[0m \u001b[0mp1\u001b[0m\u001b[1;33m]\u001b[0m\u001b[1;33m,\u001b[0m \u001b[0msizing_mode\u001b[0m \u001b[1;33m=\u001b[0m \u001b[1;34m\"scale_both\"\u001b[0m\u001b[1;33m)\u001b[0m\u001b[1;33m)\u001b[0m\u001b[1;33m\u001b[0m\u001b[1;33m\u001b[0m\u001b[0m\n\u001b[0m\u001b[0;32m     39\u001b[0m \"\"\"\n\u001b[0;32m     40\u001b[0m \u001b[0mscript1\u001b[0m\u001b[1;33m,\u001b[0m \u001b[0mdiv1\u001b[0m\u001b[1;33m,\u001b[0m \u001b[1;33m=\u001b[0m \u001b[0mcomponents\u001b[0m\u001b[1;33m(\u001b[0m\u001b[0mlayouts\u001b[0m\u001b[1;33m.\u001b[0m\u001b[0mrow\u001b[0m\u001b[1;33m(\u001b[0m\u001b[0mchildren\u001b[0m \u001b[1;33m=\u001b[0m \u001b[1;33m[\u001b[0m\u001b[0mp\u001b[0m\u001b[1;33m,\u001b[0m \u001b[0mp1\u001b[0m\u001b[1;33m]\u001b[0m\u001b[1;33m,\u001b[0m \u001b[0msizing_mode\u001b[0m \u001b[1;33m=\u001b[0m \u001b[1;34m\"scale_height\"\u001b[0m\u001b[1;33m)\u001b[0m\u001b[1;33m)\u001b[0m\u001b[1;33m\u001b[0m\u001b[1;33m\u001b[0m\u001b[0m\n",
      "\u001b[1;32mc:\\Users\\Akshay\\AppData\\Local\\Programs\\Python\\Python39\\lib\\site-packages\\bokeh\\io\\saving.py\u001b[0m in \u001b[0;36msave\u001b[1;34m(obj, filename, resources, title, template, state, **kwargs)\u001b[0m\n\u001b[0;32m     84\u001b[0m \u001b[1;33m\u001b[0m\u001b[0m\n\u001b[0;32m     85\u001b[0m     \u001b[0mfilename\u001b[0m\u001b[1;33m,\u001b[0m \u001b[0mresources\u001b[0m\u001b[1;33m,\u001b[0m \u001b[0mtitle\u001b[0m \u001b[1;33m=\u001b[0m \u001b[0m_get_save_args\u001b[0m\u001b[1;33m(\u001b[0m\u001b[0mstate\u001b[0m\u001b[1;33m,\u001b[0m \u001b[0mfilename\u001b[0m\u001b[1;33m,\u001b[0m \u001b[0mresources\u001b[0m\u001b[1;33m,\u001b[0m \u001b[0mtitle\u001b[0m\u001b[1;33m)\u001b[0m\u001b[1;33m\u001b[0m\u001b[1;33m\u001b[0m\u001b[0m\n\u001b[1;32m---> 86\u001b[1;33m     \u001b[0m_save_helper\u001b[0m\u001b[1;33m(\u001b[0m\u001b[0mobj\u001b[0m\u001b[1;33m,\u001b[0m \u001b[0mfilename\u001b[0m\u001b[1;33m,\u001b[0m \u001b[0mresources\u001b[0m\u001b[1;33m,\u001b[0m \u001b[0mtitle\u001b[0m\u001b[1;33m,\u001b[0m \u001b[0mtemplate\u001b[0m\u001b[1;33m,\u001b[0m \u001b[0mtheme\u001b[0m\u001b[1;33m)\u001b[0m\u001b[1;33m\u001b[0m\u001b[1;33m\u001b[0m\u001b[0m\n\u001b[0m\u001b[0;32m     87\u001b[0m     \u001b[1;32mreturn\u001b[0m \u001b[0mabspath\u001b[0m\u001b[1;33m(\u001b[0m\u001b[0mfilename\u001b[0m\u001b[1;33m)\u001b[0m\u001b[1;33m\u001b[0m\u001b[1;33m\u001b[0m\u001b[0m\n\u001b[0;32m     88\u001b[0m \u001b[1;33m\u001b[0m\u001b[0m\n",
      "\u001b[1;32mc:\\Users\\Akshay\\AppData\\Local\\Programs\\Python\\Python39\\lib\\site-packages\\bokeh\\io\\saving.py\u001b[0m in \u001b[0;36m_save_helper\u001b[1;34m(obj, filename, resources, title, template, theme)\u001b[0m\n\u001b[0;32m    146\u001b[0m     '''\n\u001b[0;32m    147\u001b[0m     \u001b[1;32mfrom\u001b[0m \u001b[1;33m.\u001b[0m\u001b[1;33m.\u001b[0m\u001b[0membed\u001b[0m \u001b[1;32mimport\u001b[0m \u001b[0mfile_html\u001b[0m\u001b[1;33m\u001b[0m\u001b[1;33m\u001b[0m\u001b[0m\n\u001b[1;32m--> 148\u001b[1;33m     \u001b[0mhtml\u001b[0m \u001b[1;33m=\u001b[0m \u001b[0mfile_html\u001b[0m\u001b[1;33m(\u001b[0m\u001b[0mobj\u001b[0m\u001b[1;33m,\u001b[0m \u001b[0mresources\u001b[0m\u001b[1;33m,\u001b[0m \u001b[0mtitle\u001b[0m\u001b[1;33m=\u001b[0m\u001b[0mtitle\u001b[0m\u001b[1;33m,\u001b[0m \u001b[0mtemplate\u001b[0m\u001b[1;33m=\u001b[0m\u001b[0mtemplate\u001b[0m\u001b[1;33m,\u001b[0m \u001b[0mtheme\u001b[0m\u001b[1;33m=\u001b[0m\u001b[0mtheme\u001b[0m\u001b[1;33m)\u001b[0m\u001b[1;33m\u001b[0m\u001b[1;33m\u001b[0m\u001b[0m\n\u001b[0m\u001b[0;32m    149\u001b[0m \u001b[1;33m\u001b[0m\u001b[0m\n\u001b[0;32m    150\u001b[0m     \u001b[1;32mwith\u001b[0m \u001b[0mopen\u001b[0m\u001b[1;33m(\u001b[0m\u001b[0mfilename\u001b[0m\u001b[1;33m,\u001b[0m \u001b[0mmode\u001b[0m\u001b[1;33m=\u001b[0m\u001b[1;34m\"w\"\u001b[0m\u001b[1;33m,\u001b[0m \u001b[0mencoding\u001b[0m\u001b[1;33m=\u001b[0m\u001b[1;34m\"utf-8\"\u001b[0m\u001b[1;33m)\u001b[0m \u001b[1;32mas\u001b[0m \u001b[0mf\u001b[0m\u001b[1;33m:\u001b[0m\u001b[1;33m\u001b[0m\u001b[1;33m\u001b[0m\u001b[0m\n",
      "\u001b[1;32mc:\\Users\\Akshay\\AppData\\Local\\Programs\\Python\\Python39\\lib\\site-packages\\bokeh\\embed\\standalone.py\u001b[0m in \u001b[0;36mfile_html\u001b[1;34m(models, resources, title, template, template_variables, theme, suppress_callback_warning, _always_new)\u001b[0m\n\u001b[0;32m    301\u001b[0m         \u001b[0mmodels_seq\u001b[0m \u001b[1;33m=\u001b[0m \u001b[0mmodels\u001b[0m\u001b[1;33m\u001b[0m\u001b[1;33m\u001b[0m\u001b[0m\n\u001b[0;32m    302\u001b[0m \u001b[1;33m\u001b[0m\u001b[0m\n\u001b[1;32m--> 303\u001b[1;33m     \u001b[1;32mwith\u001b[0m \u001b[0mOutputDocumentFor\u001b[0m\u001b[1;33m(\u001b[0m\u001b[0mmodels_seq\u001b[0m\u001b[1;33m,\u001b[0m \u001b[0mapply_theme\u001b[0m\u001b[1;33m=\u001b[0m\u001b[0mtheme\u001b[0m\u001b[1;33m,\u001b[0m \u001b[0malways_new\u001b[0m\u001b[1;33m=\u001b[0m\u001b[0m_always_new\u001b[0m\u001b[1;33m)\u001b[0m \u001b[1;32mas\u001b[0m \u001b[0mdoc\u001b[0m\u001b[1;33m:\u001b[0m\u001b[1;33m\u001b[0m\u001b[1;33m\u001b[0m\u001b[0m\n\u001b[0m\u001b[0;32m    304\u001b[0m         \u001b[1;33m(\u001b[0m\u001b[0mdocs_json\u001b[0m\u001b[1;33m,\u001b[0m \u001b[0mrender_items\u001b[0m\u001b[1;33m)\u001b[0m \u001b[1;33m=\u001b[0m \u001b[0mstandalone_docs_json_and_render_items\u001b[0m\u001b[1;33m(\u001b[0m\u001b[0mmodels_seq\u001b[0m\u001b[1;33m,\u001b[0m \u001b[0msuppress_callback_warning\u001b[0m\u001b[1;33m=\u001b[0m\u001b[0msuppress_callback_warning\u001b[0m\u001b[1;33m)\u001b[0m\u001b[1;33m\u001b[0m\u001b[1;33m\u001b[0m\u001b[0m\n\u001b[0;32m    305\u001b[0m         \u001b[0mtitle\u001b[0m \u001b[1;33m=\u001b[0m \u001b[0m_title_from_models\u001b[0m\u001b[1;33m(\u001b[0m\u001b[0mmodels_seq\u001b[0m\u001b[1;33m,\u001b[0m \u001b[0mtitle\u001b[0m\u001b[1;33m)\u001b[0m\u001b[1;33m\u001b[0m\u001b[1;33m\u001b[0m\u001b[0m\n",
      "\u001b[1;32mc:\\Users\\Akshay\\AppData\\Local\\Programs\\Python\\Python39\\lib\\contextlib.py\u001b[0m in \u001b[0;36m__enter__\u001b[1;34m(self)\u001b[0m\n\u001b[0;32m    117\u001b[0m         \u001b[1;32mdel\u001b[0m \u001b[0mself\u001b[0m\u001b[1;33m.\u001b[0m\u001b[0margs\u001b[0m\u001b[1;33m,\u001b[0m \u001b[0mself\u001b[0m\u001b[1;33m.\u001b[0m\u001b[0mkwds\u001b[0m\u001b[1;33m,\u001b[0m \u001b[0mself\u001b[0m\u001b[1;33m.\u001b[0m\u001b[0mfunc\u001b[0m\u001b[1;33m\u001b[0m\u001b[1;33m\u001b[0m\u001b[0m\n\u001b[0;32m    118\u001b[0m         \u001b[1;32mtry\u001b[0m\u001b[1;33m:\u001b[0m\u001b[1;33m\u001b[0m\u001b[1;33m\u001b[0m\u001b[0m\n\u001b[1;32m--> 119\u001b[1;33m             \u001b[1;32mreturn\u001b[0m \u001b[0mnext\u001b[0m\u001b[1;33m(\u001b[0m\u001b[0mself\u001b[0m\u001b[1;33m.\u001b[0m\u001b[0mgen\u001b[0m\u001b[1;33m)\u001b[0m\u001b[1;33m\u001b[0m\u001b[1;33m\u001b[0m\u001b[0m\n\u001b[0m\u001b[0;32m    120\u001b[0m         \u001b[1;32mexcept\u001b[0m \u001b[0mStopIteration\u001b[0m\u001b[1;33m:\u001b[0m\u001b[1;33m\u001b[0m\u001b[1;33m\u001b[0m\u001b[0m\n\u001b[0;32m    121\u001b[0m             \u001b[1;32mraise\u001b[0m \u001b[0mRuntimeError\u001b[0m\u001b[1;33m(\u001b[0m\u001b[1;34m\"generator didn't yield\"\u001b[0m\u001b[1;33m)\u001b[0m \u001b[1;32mfrom\u001b[0m \u001b[1;32mNone\u001b[0m\u001b[1;33m\u001b[0m\u001b[1;33m\u001b[0m\u001b[0m\n",
      "\u001b[1;32mc:\\Users\\Akshay\\AppData\\Local\\Programs\\Python\\Python39\\lib\\site-packages\\bokeh\\embed\\util.py\u001b[0m in \u001b[0;36mOutputDocumentFor\u001b[1;34m(objs, apply_theme, always_new)\u001b[0m\n\u001b[0;32m    132\u001b[0m             \u001b[0mdoc\u001b[0m \u001b[1;33m=\u001b[0m \u001b[0mDocument\u001b[0m\u001b[1;33m(\u001b[0m\u001b[1;33m)\u001b[0m\u001b[1;33m\u001b[0m\u001b[1;33m\u001b[0m\u001b[0m\n\u001b[0;32m    133\u001b[0m             \u001b[1;32mfor\u001b[0m \u001b[0mmodel\u001b[0m \u001b[1;32min\u001b[0m \u001b[0mobjs\u001b[0m\u001b[1;33m:\u001b[0m\u001b[1;33m\u001b[0m\u001b[1;33m\u001b[0m\u001b[0m\n\u001b[1;32m--> 134\u001b[1;33m                 \u001b[0mdoc\u001b[0m\u001b[1;33m.\u001b[0m\u001b[0madd_root\u001b[0m\u001b[1;33m(\u001b[0m\u001b[0mmodel\u001b[0m\u001b[1;33m)\u001b[0m\u001b[1;33m\u001b[0m\u001b[1;33m\u001b[0m\u001b[0m\n\u001b[0m\u001b[0;32m    135\u001b[0m \u001b[1;33m\u001b[0m\u001b[0m\n\u001b[0;32m    136\u001b[0m         \u001b[1;31m# handle a single shared document\u001b[0m\u001b[1;33m\u001b[0m\u001b[1;33m\u001b[0m\u001b[0m\n",
      "\u001b[1;32mc:\\Users\\Akshay\\AppData\\Local\\Programs\\Python\\Python39\\lib\\site-packages\\bokeh\\document\\document.py\u001b[0m in \u001b[0;36madd_root\u001b[1;34m(self, model, setter)\u001b[0m\n\u001b[0;32m    319\u001b[0m             \u001b[0mself\u001b[0m\u001b[1;33m.\u001b[0m\u001b[0m_roots\u001b[0m\u001b[1;33m.\u001b[0m\u001b[0mappend\u001b[0m\u001b[1;33m(\u001b[0m\u001b[0mmodel\u001b[0m\u001b[1;33m)\u001b[0m\u001b[1;33m\u001b[0m\u001b[1;33m\u001b[0m\u001b[0m\n\u001b[0;32m    320\u001b[0m         \u001b[1;32mfinally\u001b[0m\u001b[1;33m:\u001b[0m\u001b[1;33m\u001b[0m\u001b[1;33m\u001b[0m\u001b[0m\n\u001b[1;32m--> 321\u001b[1;33m             \u001b[0mself\u001b[0m\u001b[1;33m.\u001b[0m\u001b[0m_pop_all_models_freeze\u001b[0m\u001b[1;33m(\u001b[0m\u001b[1;33m)\u001b[0m\u001b[1;33m\u001b[0m\u001b[1;33m\u001b[0m\u001b[0m\n\u001b[0m\u001b[0;32m    322\u001b[0m         \u001b[0mself\u001b[0m\u001b[1;33m.\u001b[0m\u001b[0m_trigger_on_change\u001b[0m\u001b[1;33m(\u001b[0m\u001b[0mRootAddedEvent\u001b[0m\u001b[1;33m(\u001b[0m\u001b[0mself\u001b[0m\u001b[1;33m,\u001b[0m \u001b[0mmodel\u001b[0m\u001b[1;33m,\u001b[0m \u001b[0msetter\u001b[0m\u001b[1;33m)\u001b[0m\u001b[1;33m)\u001b[0m\u001b[1;33m\u001b[0m\u001b[1;33m\u001b[0m\u001b[0m\n\u001b[0;32m    323\u001b[0m \u001b[1;33m\u001b[0m\u001b[0m\n",
      "\u001b[1;32mc:\\Users\\Akshay\\AppData\\Local\\Programs\\Python\\Python39\\lib\\site-packages\\bokeh\\document\\document.py\u001b[0m in \u001b[0;36m_pop_all_models_freeze\u001b[1;34m(self)\u001b[0m\n\u001b[0;32m   1102\u001b[0m         \u001b[0mself\u001b[0m\u001b[1;33m.\u001b[0m\u001b[0m_all_models_freeze_count\u001b[0m \u001b[1;33m-=\u001b[0m \u001b[1;36m1\u001b[0m\u001b[1;33m\u001b[0m\u001b[1;33m\u001b[0m\u001b[0m\n\u001b[0;32m   1103\u001b[0m         \u001b[1;32mif\u001b[0m \u001b[0mself\u001b[0m\u001b[1;33m.\u001b[0m\u001b[0m_all_models_freeze_count\u001b[0m \u001b[1;33m==\u001b[0m \u001b[1;36m0\u001b[0m\u001b[1;33m:\u001b[0m\u001b[1;33m\u001b[0m\u001b[1;33m\u001b[0m\u001b[0m\n\u001b[1;32m-> 1104\u001b[1;33m             \u001b[0mself\u001b[0m\u001b[1;33m.\u001b[0m\u001b[0m_recompute_all_models\u001b[0m\u001b[1;33m(\u001b[0m\u001b[1;33m)\u001b[0m\u001b[1;33m\u001b[0m\u001b[1;33m\u001b[0m\u001b[0m\n\u001b[0m\u001b[0;32m   1105\u001b[0m \u001b[1;33m\u001b[0m\u001b[0m\n\u001b[0;32m   1106\u001b[0m     \u001b[1;32mdef\u001b[0m \u001b[0m_recompute_all_models\u001b[0m\u001b[1;33m(\u001b[0m\u001b[0mself\u001b[0m\u001b[1;33m)\u001b[0m\u001b[1;33m:\u001b[0m\u001b[1;33m\u001b[0m\u001b[1;33m\u001b[0m\u001b[0m\n",
      "\u001b[1;32mc:\\Users\\Akshay\\AppData\\Local\\Programs\\Python\\Python39\\lib\\site-packages\\bokeh\\document\\document.py\u001b[0m in \u001b[0;36m_recompute_all_models\u001b[1;34m(self)\u001b[0m\n\u001b[0;32m   1125\u001b[0m             \u001b[0md\u001b[0m\u001b[1;33m.\u001b[0m\u001b[0m_detach_document\u001b[0m\u001b[1;33m(\u001b[0m\u001b[1;33m)\u001b[0m\u001b[1;33m\u001b[0m\u001b[1;33m\u001b[0m\u001b[0m\n\u001b[0;32m   1126\u001b[0m         \u001b[1;32mfor\u001b[0m \u001b[0ma\u001b[0m \u001b[1;32min\u001b[0m \u001b[0mto_attach\u001b[0m\u001b[1;33m:\u001b[0m\u001b[1;33m\u001b[0m\u001b[1;33m\u001b[0m\u001b[0m\n\u001b[1;32m-> 1127\u001b[1;33m             \u001b[0ma\u001b[0m\u001b[1;33m.\u001b[0m\u001b[0m_attach_document\u001b[0m\u001b[1;33m(\u001b[0m\u001b[0mself\u001b[0m\u001b[1;33m)\u001b[0m\u001b[1;33m\u001b[0m\u001b[1;33m\u001b[0m\u001b[0m\n\u001b[0m\u001b[0;32m   1128\u001b[0m         \u001b[0mself\u001b[0m\u001b[1;33m.\u001b[0m\u001b[0m_all_models\u001b[0m \u001b[1;33m=\u001b[0m \u001b[0mrecomputed\u001b[0m\u001b[1;33m\u001b[0m\u001b[1;33m\u001b[0m\u001b[0m\n\u001b[0;32m   1129\u001b[0m         \u001b[0mself\u001b[0m\u001b[1;33m.\u001b[0m\u001b[0m_all_models_by_name\u001b[0m \u001b[1;33m=\u001b[0m \u001b[0mrecomputed_by_name\u001b[0m\u001b[1;33m\u001b[0m\u001b[1;33m\u001b[0m\u001b[0m\n",
      "\u001b[1;32mc:\\Users\\Akshay\\AppData\\Local\\Programs\\Python\\Python39\\lib\\site-packages\\bokeh\\model.py\u001b[0m in \u001b[0;36m_attach_document\u001b[1;34m(self, doc)\u001b[0m\n\u001b[0;32m    690\u001b[0m         '''\n\u001b[0;32m    691\u001b[0m         \u001b[1;32mif\u001b[0m \u001b[0mself\u001b[0m\u001b[1;33m.\u001b[0m\u001b[0m_document\u001b[0m \u001b[1;32mis\u001b[0m \u001b[1;32mnot\u001b[0m \u001b[1;32mNone\u001b[0m \u001b[1;32mand\u001b[0m \u001b[0mself\u001b[0m\u001b[1;33m.\u001b[0m\u001b[0m_document\u001b[0m \u001b[1;32mis\u001b[0m \u001b[1;32mnot\u001b[0m \u001b[0mdoc\u001b[0m\u001b[1;33m:\u001b[0m\u001b[1;33m\u001b[0m\u001b[1;33m\u001b[0m\u001b[0m\n\u001b[1;32m--> 692\u001b[1;33m             \u001b[1;32mraise\u001b[0m \u001b[0mRuntimeError\u001b[0m\u001b[1;33m(\u001b[0m\u001b[1;34m\"Models must be owned by only a single document, %r is already in a doc\"\u001b[0m \u001b[1;33m%\u001b[0m \u001b[1;33m(\u001b[0m\u001b[0mself\u001b[0m\u001b[1;33m)\u001b[0m\u001b[1;33m)\u001b[0m\u001b[1;33m\u001b[0m\u001b[1;33m\u001b[0m\u001b[0m\n\u001b[0m\u001b[0;32m    693\u001b[0m         \u001b[0mdoc\u001b[0m\u001b[1;33m.\u001b[0m\u001b[0mtheme\u001b[0m\u001b[1;33m.\u001b[0m\u001b[0mapply_to_model\u001b[0m\u001b[1;33m(\u001b[0m\u001b[0mself\u001b[0m\u001b[1;33m)\u001b[0m\u001b[1;33m\u001b[0m\u001b[1;33m\u001b[0m\u001b[0m\n\u001b[0;32m    694\u001b[0m         \u001b[0mself\u001b[0m\u001b[1;33m.\u001b[0m\u001b[0m_document\u001b[0m \u001b[1;33m=\u001b[0m \u001b[0mdoc\u001b[0m\u001b[1;33m\u001b[0m\u001b[1;33m\u001b[0m\u001b[0m\n",
      "\u001b[1;31mRuntimeError\u001b[0m: Models must be owned by only a single document, LinearScale(id='5832', ...) is already in a doc"
     ]
    }
   ],
   "source": [
    "import matplotlib.pyplot as plt\n",
    "import pandas\n",
    "import bokeh.layouts as layouts\n",
    "from bokeh.plotting import figure, show, output_file, save\n",
    "from bokeh.embed import components\n",
    "from bokeh.resources import CDN\n",
    "df = pandas.read_csv('TJ221109.CSV', names=['Time(s)', 'V1', 'V2', 'V3', '�C'])\n",
    "\n",
    "source1=df\n",
    "source2=df\n",
    "source3=df\n",
    "source4=df\n",
    "source5=df\n",
    "\n",
    "mfcTooltips = [\n",
    "    (\"index\", \"$index\"),\n",
    "    (\"MFC\", \"$name\"),\n",
    "    (\"Time (s)\", \"$x\"),\n",
    "    (\"E.M.F (V)\", \"$y\")\n",
    "]\n",
    "\n",
    "tempTooltips = [\n",
    "    (\"index\", \"$index\"),\n",
    "    (\"Time (s)\", \"$x\"),\n",
    "    (\"E.M.F (V)\", \"$y\")\n",
    "]\n",
    "\n",
    "p = figure(title = 'Experiment 1', x_axis_label = \"time(s)\", y_axis_label=\"E.M.F.(V)\", x_range=(0, 12000), y_range=(0.2, 1), sizing_mode=\"scale_both\", tooltips = mfcTooltips)\n",
    "\n",
    "p.line('Time(s)', 'V1', source = source1, color = \"green\", legend_label = \"MFC 1\", name='MFC 1')\n",
    "p.line('Time(s)', 'V2', source = source2, color = \"red\", legend_label = \"MFC 2\", name = \"MFC 2\")\n",
    "p.line('Time(s)', 'V3', source = source3, color = \"blue\", legend_label = \"MFC 3\", name = \"MFC 3\")\n",
    "\n",
    "p1 = figure(title = 'Temperature', x_axis_label = \"time(s)\", y_axis_label=\"temperature (�C)\", x_range=(0, 12000), y_range=(20, 30), sizing_mode=\"scale_both\", tooltips = tempTooltips)\n",
    "p.line('Time(s)', '�C', source = source4, color = \"black\", legend_label = \"Temperature\", name = \"Temperature\")\n",
    "output_file(filename=\"TExperiment1.html\", title=\"TJ221109.CSV\")\n",
    "show(layouts.row(children = [p, p1], sizing_mode = \"scale_both\"))\n",
    "save(layouts.row(children = [p, p1], sizing_mode = \"scale_both\"))\n",
    "\"\"\"\n",
    "script1, div1, = components(layouts.row(children = [p, p1], sizing_mode = \"scale_height\"))\n",
    "cdn_js = CDN.js_files\n",
    "cdn_css = CDN.css_files\n",
    "\"\"\""
   ]
  },
  {
   "cell_type": "code",
   "execution_count": 17,
   "metadata": {},
   "outputs": [],
   "source": [
    "from bokeh.models import Model\n",
    "\n",
    "for model in p.select({'type': Model}):\n",
    "    prev_doc = model.document\n",
    "    model._document = None\n",
    "    if prev_doc:\n",
    "        prev_doc.remove_root(model)"
   ]
  }
 ],
 "metadata": {
  "interpreter": {
   "hash": "4ddb336d1198f1933db7c6a1570cca7f436f657fb1fca0b3004373eaeff12516"
  },
  "kernelspec": {
   "display_name": "Python 3.9.7 64-bit",
   "language": "python",
   "name": "python3"
  },
  "language_info": {
   "codemirror_mode": {
    "name": "ipython",
    "version": 3
   },
   "file_extension": ".py",
   "mimetype": "text/x-python",
   "name": "python",
   "nbconvert_exporter": "python",
   "pygments_lexer": "ipython3",
   "version": "3.9.7"
  },
  "orig_nbformat": 4
 },
 "nbformat": 4,
 "nbformat_minor": 2
}
